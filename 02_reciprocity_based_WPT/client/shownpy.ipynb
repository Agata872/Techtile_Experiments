{
 "cells": [
  {
   "metadata": {
    "ExecuteTime": {
     "end_time": "2024-12-10T08:34:49.011906Z",
     "start_time": "2024-12-10T08:34:48.998305Z"
    }
   },
   "cell_type": "code",
   "source": [
    "import numpy as np\n",
    "\n",
    "\n",
    "\n",
    "# get all data (pilot + loopback) for each experiment (20241108144903 <= TODO extract using regex)\n",
    "\n",
    "all_the_shit = read_data()\n",
    "validate_data(all_the_shit) # check if all tiles active, missing experiment (1,3)\n",
    "compute_phase_stability(all_the_shit) # compare 1， 2， 3， 。。。，\n",
    "compute_phase_diff(all_the_shit)# it compares reciprocity vs FRIIS (LoS sim0), SMC1 (sim 1), SMC2 (sim2)\n",
    "\n",
    "\n",
    "\n",
    "\n",
    "# Load the data from the .npy file\n",
    "data = np.load('data_E09_20241108144903_1_loopback.npy')\n",
    "\n",
    "# Print the data\n",
    "print(data)\n",
    "\n",
    "# Check the shape of the data\n",
    "print(\"Shape of the data:\", data.shape)\n",
    "\n",
    "# Check the type of the data\n",
    "print(\"Type of the data:\", data.dtype)\n"
   ],
   "id": "70d7c8fb09472e2b",
   "outputs": [
    {
     "name": "stdout",
     "output_type": "stream",
     "text": [
      "[[ 0.04779216+0.22513586j  0.042604  +0.22611246j  0.03643923+0.22705853j\n",
      "  ...  0.22959158-0.00335705j  0.22971366+0.00198371j\n",
      "   0.2297747 +0.00747706j]\n",
      " [-0.00122074+0.010651j   -0.00122074+0.01034581j -0.00140386+0.01040685j\n",
      "  ...  0.00973544+0.00341809j  0.00985751+0.00366223j\n",
      "   0.00927766+0.00390638j]]\n",
      "Shape of the data: (2, 1227992)\n",
      "Type of the data: complex64\n"
     ]
    }
   ],
   "execution_count": 3
  },
  {
   "metadata": {
    "ExecuteTime": {
     "end_time": "2024-12-10T08:35:05.769191Z",
     "start_time": "2024-12-10T08:35:05.754730Z"
    }
   },
   "cell_type": "code",
   "source": [
    "import numpy as np\n",
    "# Load the data from the .npy file\n",
    "data = np.load('data_E09_20241108144903_1_loopback.npy')\n",
    "\n",
    "# Print the data\n",
    "print(data)\n",
    "\n",
    "# Check the shape of the data\n",
    "print(\"Shape of the data:\", data.shape)\n",
    "\n",
    "# Check the type of the data\n",
    "print(\"Type of the data:\", data.dtype)"
   ],
   "id": "aabc83badf47dad5",
   "outputs": [
    {
     "name": "stdout",
     "output_type": "stream",
     "text": [
      "[[ 0.04779216+0.22513586j  0.042604  +0.22611246j  0.03643923+0.22705853j\n",
      "  ...  0.22959158-0.00335705j  0.22971366+0.00198371j\n",
      "   0.2297747 +0.00747706j]\n",
      " [-0.00122074+0.010651j   -0.00122074+0.01034581j -0.00140386+0.01040685j\n",
      "  ...  0.00973544+0.00341809j  0.00985751+0.00366223j\n",
      "   0.00927766+0.00390638j]]\n",
      "Shape of the data: (2, 1227992)\n",
      "Type of the data: complex64\n"
     ]
    }
   ],
   "execution_count": 4
  },
  {
   "metadata": {
    "ExecuteTime": {
     "end_time": "2024-12-10T08:35:17.910526Z",
     "start_time": "2024-12-10T08:35:17.814836Z"
    }
   },
   "cell_type": "code",
   "source": [
    "import os\n",
    "import numpy as np\n",
    "\n",
    "# Get the absolute path to the parent directory\n",
    "parent_folder = os.path.dirname(os.getcwd())\n",
    "\n",
    "# Construct the path to the data folder\n",
    "data_folder = os.path.join(parent_folder, 'data')\n",
    "\n",
    "# Load the data from the .npy file in the data folder\n",
    "data_path = os.path.join(data_folder, 'positions-bf.npy')\n",
    "data = np.load(data_path, allow_pickle=True)\n",
    "\n",
    "# Print the data\n",
    "print(data)\n",
    "\n",
    "# Check the shape of the data\n",
    "print(\"Shape of the data:\", data.shape)\n",
    "\n",
    "# Check the type of the data\n",
    "print(\"Type of the data:\", data.dtype)"
   ],
   "id": "e4b509e04765a0ce",
   "outputs": [
    {
     "ename": "ModuleNotFoundError",
     "evalue": "No module named 'Positioner'",
     "output_type": "error",
     "traceback": [
      "\u001B[1;31m---------------------------------------------------------------------------\u001B[0m",
      "\u001B[1;31mModuleNotFoundError\u001B[0m                       Traceback (most recent call last)",
      "Cell \u001B[1;32mIn[5], line 12\u001B[0m\n\u001B[0;32m     10\u001B[0m \u001B[38;5;66;03m# Load the data from the .npy file in the data folder\u001B[39;00m\n\u001B[0;32m     11\u001B[0m data_path \u001B[38;5;241m=\u001B[39m os\u001B[38;5;241m.\u001B[39mpath\u001B[38;5;241m.\u001B[39mjoin(data_folder, \u001B[38;5;124m'\u001B[39m\u001B[38;5;124mpositions-bf.npy\u001B[39m\u001B[38;5;124m'\u001B[39m)\n\u001B[1;32m---> 12\u001B[0m data \u001B[38;5;241m=\u001B[39m np\u001B[38;5;241m.\u001B[39mload(data_path, allow_pickle\u001B[38;5;241m=\u001B[39m\u001B[38;5;28;01mTrue\u001B[39;00m)\n\u001B[0;32m     14\u001B[0m \u001B[38;5;66;03m# Print the data\u001B[39;00m\n\u001B[0;32m     15\u001B[0m \u001B[38;5;28mprint\u001B[39m(data)\n",
      "File \u001B[1;32mD:\\Programs\\anaconda3\\Lib\\site-packages\\numpy\\lib\\npyio.py:456\u001B[0m, in \u001B[0;36mload\u001B[1;34m(file, mmap_mode, allow_pickle, fix_imports, encoding, max_header_size)\u001B[0m\n\u001B[0;32m    453\u001B[0m         \u001B[38;5;28;01mreturn\u001B[39;00m \u001B[38;5;28mformat\u001B[39m\u001B[38;5;241m.\u001B[39mopen_memmap(file, mode\u001B[38;5;241m=\u001B[39mmmap_mode,\n\u001B[0;32m    454\u001B[0m                                   max_header_size\u001B[38;5;241m=\u001B[39mmax_header_size)\n\u001B[0;32m    455\u001B[0m     \u001B[38;5;28;01melse\u001B[39;00m:\n\u001B[1;32m--> 456\u001B[0m         \u001B[38;5;28;01mreturn\u001B[39;00m \u001B[38;5;28mformat\u001B[39m\u001B[38;5;241m.\u001B[39mread_array(fid, allow_pickle\u001B[38;5;241m=\u001B[39mallow_pickle,\n\u001B[0;32m    457\u001B[0m                                  pickle_kwargs\u001B[38;5;241m=\u001B[39mpickle_kwargs,\n\u001B[0;32m    458\u001B[0m                                  max_header_size\u001B[38;5;241m=\u001B[39mmax_header_size)\n\u001B[0;32m    459\u001B[0m \u001B[38;5;28;01melse\u001B[39;00m:\n\u001B[0;32m    460\u001B[0m     \u001B[38;5;66;03m# Try a pickle\u001B[39;00m\n\u001B[0;32m    461\u001B[0m     \u001B[38;5;28;01mif\u001B[39;00m \u001B[38;5;129;01mnot\u001B[39;00m allow_pickle:\n",
      "File \u001B[1;32mD:\\Programs\\anaconda3\\Lib\\site-packages\\numpy\\lib\\format.py:800\u001B[0m, in \u001B[0;36mread_array\u001B[1;34m(fp, allow_pickle, pickle_kwargs, max_header_size)\u001B[0m\n\u001B[0;32m    798\u001B[0m     pickle_kwargs \u001B[38;5;241m=\u001B[39m {}\n\u001B[0;32m    799\u001B[0m \u001B[38;5;28;01mtry\u001B[39;00m:\n\u001B[1;32m--> 800\u001B[0m     array \u001B[38;5;241m=\u001B[39m pickle\u001B[38;5;241m.\u001B[39mload(fp, \u001B[38;5;241m*\u001B[39m\u001B[38;5;241m*\u001B[39mpickle_kwargs)\n\u001B[0;32m    801\u001B[0m \u001B[38;5;28;01mexcept\u001B[39;00m \u001B[38;5;167;01mUnicodeError\u001B[39;00m \u001B[38;5;28;01mas\u001B[39;00m err:\n\u001B[0;32m    802\u001B[0m     \u001B[38;5;66;03m# Friendlier error message\u001B[39;00m\n\u001B[0;32m    803\u001B[0m     \u001B[38;5;28;01mraise\u001B[39;00m \u001B[38;5;167;01mUnicodeError\u001B[39;00m(\u001B[38;5;124m\"\u001B[39m\u001B[38;5;124mUnpickling a python object failed: \u001B[39m\u001B[38;5;132;01m%r\u001B[39;00m\u001B[38;5;130;01m\\n\u001B[39;00m\u001B[38;5;124m\"\u001B[39m\n\u001B[0;32m    804\u001B[0m                        \u001B[38;5;124m\"\u001B[39m\u001B[38;5;124mYou may need to pass the encoding= option \u001B[39m\u001B[38;5;124m\"\u001B[39m\n\u001B[0;32m    805\u001B[0m                        \u001B[38;5;124m\"\u001B[39m\u001B[38;5;124mto numpy.load\u001B[39m\u001B[38;5;124m\"\u001B[39m \u001B[38;5;241m%\u001B[39m (err,)) \u001B[38;5;28;01mfrom\u001B[39;00m \u001B[38;5;21;01merr\u001B[39;00m\n",
      "\u001B[1;31mModuleNotFoundError\u001B[0m: No module named 'Positioner'"
     ]
    }
   ],
   "execution_count": 5
  },
  {
   "metadata": {
    "ExecuteTime": {
     "end_time": "2024-12-10T08:35:48.134042Z",
     "start_time": "2024-12-10T08:35:47.987490Z"
    }
   },
   "cell_type": "code",
   "source": [
    "import numpy as np\n",
    "import tools\n",
    "import logging\n",
    "\n",
    "# 设置日志记录\n",
    "logging.basicConfig(level=logging.DEBUG)\n",
    "logger = logging.getLogger(__name__)\n",
    "\n",
    "# 加载数据\n",
    "iq_samples = np.load('data_E09_20241108144903_1_loopback.npy')\n",
    "\n",
    "# 处理数据\n",
    "phase_ch0, freq_slope_ch0 = tools.get_phases_and_apply_bandpass(iq_samples[0, :])\n",
    "phase_ch1, freq_slope_ch1 = tools.get_phases_and_apply_bandpass(iq_samples[1, :])\n",
    "\n",
    "# 打印频率偏移\n",
    "logger.debug(\"Frequency offset CH0: %.4f\", freq_slope_ch0 / (2 * np.pi))\n",
    "logger.debug(\"Frequency offset CH1: %.4f\", freq_slope_ch1 / (2 * np.pi))\n",
    "\n",
    "# 计算相位差\n",
    "phase_diff = tools.to_min_pi_plus_pi(phase_ch0 - phase_ch1, deg=False)\n",
    "\n",
    "# 打印相位差\n",
    "print(\"Phase difference:\", np.mean(phase_diff))"
   ],
   "id": "78cd825bc4cc2753",
   "outputs": [
    {
     "name": "stderr",
     "output_type": "stream",
     "text": [
      "DEBUG:__main__:Frequency offset CH0: 0.0000\n",
      "DEBUG:__main__:Frequency offset CH1: 0.0000\n"
     ]
    },
    {
     "name": "stdout",
     "output_type": "stream",
     "text": [
      "Phase difference: -0.3400391042358815\n"
     ]
    }
   ],
   "execution_count": 7
  },
  {
   "metadata": {
    "ExecuteTime": {
     "end_time": "2024-12-10T08:36:28.378046Z",
     "start_time": "2024-12-10T08:36:28.231583Z"
    }
   },
   "cell_type": "code",
   "source": [
    "import numpy as np\n",
    "import tools\n",
    "import logging\n",
    "\n",
    "# 设置日志记录\n",
    "logging.basicConfig(level=logging.DEBUG)\n",
    "logger = logging.getLogger(__name__)\n",
    "\n",
    "# 加载数据\n",
    "iq_samples = np.load('data_E09_20241108144903_1_pilot.npy')\n",
    "\n",
    "# 处理数据\n",
    "phase_ch0, freq_slope_ch0 = tools.get_phases_and_apply_bandpass(iq_samples[0, :])\n",
    "phase_ch1, freq_slope_ch1 = tools.get_phases_and_apply_bandpass(iq_samples[1, :])\n",
    "\n",
    "# 打印频率偏移\n",
    "logger.debug(\"Frequency offset CH0: %.4f\", freq_slope_ch0 / (2 * np.pi))\n",
    "logger.debug(\"Frequency offset CH1: %.4f\", freq_slope_ch1 / (2 * np.pi))\n",
    "\n",
    "# 计算相位差\n",
    "phase_diff = tools.to_min_pi_plus_pi(phase_ch0 - phase_ch1, deg=False)\n",
    "\n",
    "# 打印相位差\n",
    "# print(\"Phase difference:\", np.mean(phase_diff))\n",
    "print(\"Phase difference:\", phase_diff)"
   ],
   "id": "62e2a5bf39255fa0",
   "outputs": [
    {
     "name": "stderr",
     "output_type": "stream",
     "text": [
      "DEBUG:__main__:Frequency offset CH0: 0.0000\n",
      "DEBUG:__main__:Frequency offset CH1: 0.0000\n"
     ]
    },
    {
     "name": "stdout",
     "output_type": "stream",
     "text": [
      "Phase difference: [-1.99085058 -1.99064166 -1.99043354 ... -1.98088427 -1.98088435\n",
      " -1.98088419]\n"
     ]
    }
   ],
   "execution_count": 9
  },
  {
   "metadata": {
    "ExecuteTime": {
     "end_time": "2024-12-10T08:36:43.165198Z",
     "start_time": "2024-12-10T08:36:43.025322Z"
    }
   },
   "cell_type": "code",
   "source": [
    "# 加载数据\n",
    "iq_samples = np.load('data_E09_20241108144903_1_pilot.npy')\n",
    "\n",
    "# 处理数据\n",
    "phase_ch0, freq_slope_ch0 = tools.get_phases_and_apply_bandpass(iq_samples[0, :])\n",
    "phase_ch1, freq_slope_ch1 = tools.get_phases_and_apply_bandpass(iq_samples[1, :])\n",
    "\n",
    "# 打印频率偏移\n",
    "logger.debug(\"Frequency offset CH0: %.4f\", freq_slope_ch0 / (2 * np.pi))\n",
    "logger.debug(\"Frequency offset CH1: %.4f\", freq_slope_ch1 / (2 * np.pi))\n",
    "\n",
    "# 计算相位差\n",
    "phase_diff = tools.to_min_pi_plus_pi(phase_ch0 - phase_ch1, deg=False)\n",
    "\n",
    "# 打印相位差\n",
    "print(\"Phase difference:\", np.mean(phase_diff))"
   ],
   "id": "c14bee1ea65274a7",
   "outputs": [
    {
     "name": "stderr",
     "output_type": "stream",
     "text": [
      "DEBUG:__main__:Frequency offset CH0: 0.0000\n",
      "DEBUG:__main__:Frequency offset CH1: 0.0000\n"
     ]
    },
    {
     "name": "stdout",
     "output_type": "stream",
     "text": [
      "Phase difference: -1.9812471418346373\n"
     ]
    }
   ],
   "execution_count": 10
  },
  {
   "metadata": {
    "ExecuteTime": {
     "end_time": "2024-12-10T08:39:34.384758Z",
     "start_time": "2024-12-10T08:39:34.245855Z"
    }
   },
   "cell_type": "code",
   "source": [
    "# 加载数据\n",
    "iq_samples = np.load('data_E09_20241108144903_1_loopback.npy')\n",
    "\n",
    "# 处理数据\n",
    "phase_ch0, freq_slope_ch0 = tools.get_phases_and_apply_bandpass(iq_samples[0, :])\n",
    "phase_ch1, freq_slope_ch1 = tools.get_phases_and_apply_bandpass(iq_samples[1, :])\n",
    "\n",
    "# 打印频率偏移\n",
    "logger.debug(\"Frequency offset CH0: %.4f\", freq_slope_ch0 / (2 * np.pi))\n",
    "logger.debug(\"Frequency offset CH1: %.4f\", freq_slope_ch1 / (2 * np.pi))\n",
    "\n",
    "# 计算相位差\n",
    "phase_diff = tools.to_min_pi_plus_pi(phase_ch0 - phase_ch1, deg=False)\n",
    "\n",
    "# 打印相位差\n",
    "print(\"Phase difference:\", np.mean(phase_diff))"
   ],
   "id": "20e9f231c6ef1da7",
   "outputs": [
    {
     "name": "stderr",
     "output_type": "stream",
     "text": [
      "DEBUG:__main__:Frequency offset CH0: 0.0000\n",
      "DEBUG:__main__:Frequency offset CH1: 0.0000\n"
     ]
    },
    {
     "name": "stdout",
     "output_type": "stream",
     "text": [
      "Phase difference: -0.3400391042358815\n"
     ]
    }
   ],
   "execution_count": 12
  },
  {
   "metadata": {
    "ExecuteTime": {
     "end_time": "2024-12-10T08:39:37.897601Z",
     "start_time": "2024-12-10T08:39:37.757832Z"
    }
   },
   "cell_type": "code",
   "source": [
    "# 加载数据\n",
    "iq_samples = np.load('data_E09_20241108144903_2_pilot.npy')\n",
    "\n",
    "# 处理数据\n",
    "phase_ch0, freq_slope_ch0 = tools.get_phases_and_apply_bandpass(iq_samples[0, :])\n",
    "phase_ch1, freq_slope_ch1 = tools.get_phases_and_apply_bandpass(iq_samples[1, :])\n",
    "\n",
    "# 打印频率偏移\n",
    "logger.debug(\"Frequency offset CH0: %.4f\", freq_slope_ch0 / (2 * np.pi))\n",
    "logger.debug(\"Frequency offset CH1: %.4f\", freq_slope_ch1 / (2 * np.pi))\n",
    "\n",
    "# 计算相位差\n",
    "phase_diff = tools.to_min_pi_plus_pi(phase_ch0 - phase_ch1, deg=False)\n",
    "\n",
    "# 打印相位差\n",
    "print(\"Phase difference:\", np.mean(phase_diff))"
   ],
   "id": "2e09ad199395eefc",
   "outputs": [
    {
     "name": "stderr",
     "output_type": "stream",
     "text": [
      "DEBUG:__main__:Frequency offset CH0: 0.0000\n",
      "DEBUG:__main__:Frequency offset CH1: 0.0000\n"
     ]
    },
    {
     "name": "stdout",
     "output_type": "stream",
     "text": [
      "Phase difference: -1.116783710500486\n"
     ]
    }
   ],
   "execution_count": 13
  },
  {
   "metadata": {
    "ExecuteTime": {
     "end_time": "2024-12-10T08:39:47.850835Z",
     "start_time": "2024-12-10T08:39:47.708528Z"
    }
   },
   "cell_type": "code",
   "source": [
    "# 加载数据\n",
    "iq_samples = np.load('data_E09_20241108144903_2_loopback.npy')\n",
    "\n",
    "# 处理数据\n",
    "phase_ch0, freq_slope_ch0 = tools.get_phases_and_apply_bandpass(iq_samples[0, :])\n",
    "phase_ch1, freq_slope_ch1 = tools.get_phases_and_apply_bandpass(iq_samples[1, :])\n",
    "\n",
    "# 打印频率偏移\n",
    "logger.debug(\"Frequency offset CH0: %.4f\", freq_slope_ch0 / (2 * np.pi))\n",
    "logger.debug(\"Frequency offset CH1: %.4f\", freq_slope_ch1 / (2 * np.pi))\n",
    "\n",
    "# 计算相位差\n",
    "phase_diff = tools.to_min_pi_plus_pi(phase_ch0 - phase_ch1, deg=False)\n",
    "\n",
    "# 打印相位差\n",
    "print(\"Phase difference:\", np.mean(phase_diff))"
   ],
   "id": "3244f2ce3cf76118",
   "outputs": [
    {
     "name": "stderr",
     "output_type": "stream",
     "text": [
      "DEBUG:__main__:Frequency offset CH0: 0.0000\n",
      "DEBUG:__main__:Frequency offset CH1: 0.0000\n"
     ]
    },
    {
     "name": "stdout",
     "output_type": "stream",
     "text": [
      "Phase difference: -0.4233288807012716\n"
     ]
    }
   ],
   "execution_count": 14
  }
 ],
 "metadata": {
  "kernelspec": {
   "name": "python3",
   "language": "python",
   "display_name": "Python 3 (ipykernel)"
  }
 },
 "nbformat": 5,
 "nbformat_minor": 9
}
