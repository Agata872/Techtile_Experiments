{
 "cells": [
  {
   "metadata": {
    "ExecuteTime": {
     "end_time": "2024-11-21T17:11:42.279675Z",
     "start_time": "2024-11-21T17:11:42.264567Z"
    }
   },
   "cell_type": "code",
   "source": [
    "import numpy as np\n",
    "# Load the data from the .npy file\n",
    "data = np.load('data_E07_20241108144903_2_loopback.npy')\n",
    "\n",
    "# Print the data\n",
    "print(data)\n",
    "\n",
    "# Check the shape of the data\n",
    "print(\"Shape of the data:\", data.shape)\n",
    "\n",
    "# Check the type of the data\n",
    "print(\"Type of the data:\", data.dtype)\n"
   ],
   "id": "70d7c8fb09472e2b",
   "outputs": [
    {
     "name": "stdout",
     "output_type": "stream",
     "text": [
      "[[ 0.19907296+0.099155j    0.19678406+0.10312242j  0.19391531+0.1088294j\n",
      "  ... -0.13992788-0.17133154j -0.13507542-0.17523792j\n",
      "  -0.13040607-0.17819822j]\n",
      " [ 0.17627555-0.16531937j  0.18036504-0.16049743j  0.18369158-0.1560112j\n",
      "  ... -0.22718062+0.07141357j -0.22931692+0.06549296j\n",
      "  -0.23142269+0.05899249j]]\n",
      "Shape of the data: (2, 1227939)\n",
      "Type of the data: complex64\n"
     ]
    }
   ],
   "execution_count": 2
  },
  {
   "metadata": {
    "ExecuteTime": {
     "end_time": "2024-11-21T17:11:42.538504Z",
     "start_time": "2024-11-21T17:11:42.525475Z"
    }
   },
   "cell_type": "code",
   "source": [
    "import numpy as np\n",
    "# Load the data from the .npy file\n",
    "data = np.load('data_E07_20241108144903_2_pilot.npy')\n",
    "\n",
    "# Print the data\n",
    "print(data)\n",
    "\n",
    "# Check the shape of the data\n",
    "print(\"Shape of the data:\", data.shape)\n",
    "\n",
    "# Check the type of the data\n",
    "print(\"Type of the data:\", data.dtype)"
   ],
   "id": "aabc83badf47dad5",
   "outputs": [
    {
     "name": "stdout",
     "output_type": "stream",
     "text": [
      "[[-0.15921564+0.15021265j -0.1624201 +0.14658093j -0.16611286+0.14221677j\n",
      "  ... -0.20313194+0.09875826j -0.20539032+0.09366164j\n",
      "  -0.2079844 +0.08841244j]\n",
      " [ 0.23529856-0.14780168j  0.23935755-0.14114863j  0.24430156-0.13641824j\n",
      "  ...  0.28824836+0.00412001j  0.2848608 +0.00976596j\n",
      "   0.2867835 +0.01406908j]]\n",
      "Shape of the data: (2, 1227560)\n",
      "Type of the data: complex64\n"
     ]
    }
   ],
   "execution_count": 3
  },
  {
   "metadata": {
    "ExecuteTime": {
     "end_time": "2024-11-21T17:11:43.120800Z",
     "start_time": "2024-11-21T17:11:42.560621Z"
    }
   },
   "cell_type": "code",
   "source": [
    "import os\n",
    "import numpy as np\n",
    "\n",
    "# Get the absolute path to the parent directory\n",
    "parent_folder = os.path.dirname(os.getcwd())\n",
    "\n",
    "# Construct the path to the data folder\n",
    "data_folder = os.path.join(parent_folder, 'data')\n",
    "\n",
    "# Load the data from the .npy file in the data folder\n",
    "data_path = os.path.join(data_folder, 'positions-bf.npy')\n",
    "data = np.load(data_path, allow_pickle=True)\n",
    "\n",
    "# Print the data\n",
    "print(data)\n",
    "\n",
    "# Check the shape of the data\n",
    "print(\"Shape of the data:\", data.shape)\n",
    "\n",
    "# Check the type of the data\n",
    "print(\"Type of the data:\", data.dtype)"
   ],
   "id": "e4b509e04765a0ce",
   "outputs": [
    {
     "ename": "ModuleNotFoundError",
     "evalue": "No module named 'Positioner'",
     "output_type": "error",
     "traceback": [
      "\u001B[1;31m---------------------------------------------------------------------------\u001B[0m",
      "\u001B[1;31mModuleNotFoundError\u001B[0m                       Traceback (most recent call last)",
      "Cell \u001B[1;32mIn[4], line 12\u001B[0m\n\u001B[0;32m     10\u001B[0m \u001B[38;5;66;03m# Load the data from the .npy file in the data folder\u001B[39;00m\n\u001B[0;32m     11\u001B[0m data_path \u001B[38;5;241m=\u001B[39m os\u001B[38;5;241m.\u001B[39mpath\u001B[38;5;241m.\u001B[39mjoin(data_folder, \u001B[38;5;124m'\u001B[39m\u001B[38;5;124mpositions-bf.npy\u001B[39m\u001B[38;5;124m'\u001B[39m)\n\u001B[1;32m---> 12\u001B[0m data \u001B[38;5;241m=\u001B[39m np\u001B[38;5;241m.\u001B[39mload(data_path, allow_pickle\u001B[38;5;241m=\u001B[39m\u001B[38;5;28;01mTrue\u001B[39;00m)\n\u001B[0;32m     14\u001B[0m \u001B[38;5;66;03m# Print the data\u001B[39;00m\n\u001B[0;32m     15\u001B[0m \u001B[38;5;28mprint\u001B[39m(data)\n",
      "File \u001B[1;32mD:\\Programs\\anaconda3\\Lib\\site-packages\\numpy\\lib\\npyio.py:456\u001B[0m, in \u001B[0;36mload\u001B[1;34m(file, mmap_mode, allow_pickle, fix_imports, encoding, max_header_size)\u001B[0m\n\u001B[0;32m    453\u001B[0m         \u001B[38;5;28;01mreturn\u001B[39;00m \u001B[38;5;28mformat\u001B[39m\u001B[38;5;241m.\u001B[39mopen_memmap(file, mode\u001B[38;5;241m=\u001B[39mmmap_mode,\n\u001B[0;32m    454\u001B[0m                                   max_header_size\u001B[38;5;241m=\u001B[39mmax_header_size)\n\u001B[0;32m    455\u001B[0m     \u001B[38;5;28;01melse\u001B[39;00m:\n\u001B[1;32m--> 456\u001B[0m         \u001B[38;5;28;01mreturn\u001B[39;00m \u001B[38;5;28mformat\u001B[39m\u001B[38;5;241m.\u001B[39mread_array(fid, allow_pickle\u001B[38;5;241m=\u001B[39mallow_pickle,\n\u001B[0;32m    457\u001B[0m                                  pickle_kwargs\u001B[38;5;241m=\u001B[39mpickle_kwargs,\n\u001B[0;32m    458\u001B[0m                                  max_header_size\u001B[38;5;241m=\u001B[39mmax_header_size)\n\u001B[0;32m    459\u001B[0m \u001B[38;5;28;01melse\u001B[39;00m:\n\u001B[0;32m    460\u001B[0m     \u001B[38;5;66;03m# Try a pickle\u001B[39;00m\n\u001B[0;32m    461\u001B[0m     \u001B[38;5;28;01mif\u001B[39;00m \u001B[38;5;129;01mnot\u001B[39;00m allow_pickle:\n",
      "File \u001B[1;32mD:\\Programs\\anaconda3\\Lib\\site-packages\\numpy\\lib\\format.py:800\u001B[0m, in \u001B[0;36mread_array\u001B[1;34m(fp, allow_pickle, pickle_kwargs, max_header_size)\u001B[0m\n\u001B[0;32m    798\u001B[0m     pickle_kwargs \u001B[38;5;241m=\u001B[39m {}\n\u001B[0;32m    799\u001B[0m \u001B[38;5;28;01mtry\u001B[39;00m:\n\u001B[1;32m--> 800\u001B[0m     array \u001B[38;5;241m=\u001B[39m pickle\u001B[38;5;241m.\u001B[39mload(fp, \u001B[38;5;241m*\u001B[39m\u001B[38;5;241m*\u001B[39mpickle_kwargs)\n\u001B[0;32m    801\u001B[0m \u001B[38;5;28;01mexcept\u001B[39;00m \u001B[38;5;167;01mUnicodeError\u001B[39;00m \u001B[38;5;28;01mas\u001B[39;00m err:\n\u001B[0;32m    802\u001B[0m     \u001B[38;5;66;03m# Friendlier error message\u001B[39;00m\n\u001B[0;32m    803\u001B[0m     \u001B[38;5;28;01mraise\u001B[39;00m \u001B[38;5;167;01mUnicodeError\u001B[39;00m(\u001B[38;5;124m\"\u001B[39m\u001B[38;5;124mUnpickling a python object failed: \u001B[39m\u001B[38;5;132;01m%r\u001B[39;00m\u001B[38;5;130;01m\\n\u001B[39;00m\u001B[38;5;124m\"\u001B[39m\n\u001B[0;32m    804\u001B[0m                        \u001B[38;5;124m\"\u001B[39m\u001B[38;5;124mYou may need to pass the encoding= option \u001B[39m\u001B[38;5;124m\"\u001B[39m\n\u001B[0;32m    805\u001B[0m                        \u001B[38;5;124m\"\u001B[39m\u001B[38;5;124mto numpy.load\u001B[39m\u001B[38;5;124m\"\u001B[39m \u001B[38;5;241m%\u001B[39m (err,)) \u001B[38;5;28;01mfrom\u001B[39;00m \u001B[38;5;21;01merr\u001B[39;00m\n",
      "\u001B[1;31mModuleNotFoundError\u001B[0m: No module named 'Positioner'"
     ]
    }
   ],
   "execution_count": 4
  },
  {
   "metadata": {
    "ExecuteTime": {
     "end_time": "2024-11-21T17:11:43.127325200Z",
     "start_time": "2024-11-21T09:46:28.787856Z"
    }
   },
   "cell_type": "code",
   "source": [
    "import numpy as np\n",
    "import tools\n",
    "import logging\n",
    "\n",
    "# 设置日志记录\n",
    "logging.basicConfig(level=logging.DEBUG)\n",
    "logger = logging.getLogger(__name__)\n",
    "\n",
    "# 加载数据\n",
    "iq_samples = np.load('data_E07_20241108144903_2_loopback.npy')\n",
    "\n",
    "# 处理数据\n",
    "phase_ch0, freq_slope_ch0 = tools.get_phases_and_apply_bandpass(iq_samples[0, :])\n",
    "phase_ch1, freq_slope_ch1 = tools.get_phases_and_apply_bandpass(iq_samples[1, :])\n",
    "\n",
    "# 打印频率偏移\n",
    "logger.debug(\"Frequency offset CH0: %.4f\", freq_slope_ch0 / (2 * np.pi))\n",
    "logger.debug(\"Frequency offset CH1: %.4f\", freq_slope_ch1 / (2 * np.pi))\n",
    "\n",
    "# 计算相位差\n",
    "phase_diff = tools.to_min_pi_plus_pi(phase_ch0 - phase_ch1, deg=False)\n",
    "\n",
    "# 打印相位差\n",
    "print(\"Phase difference:\", np.mean(phase_diff))"
   ],
   "id": "78cd825bc4cc2753",
   "outputs": [
    {
     "name": "stderr",
     "output_type": "stream",
     "text": [
      "DEBUG:__main__:Frequency offset CH0: 0.0000\n",
      "DEBUG:__main__:Frequency offset CH1: 0.0000\n"
     ]
    },
    {
     "name": "stdout",
     "output_type": "stream",
     "text": [
      "Phase difference: 1.1962437950875728\n"
     ]
    }
   ],
   "execution_count": 2
  },
  {
   "metadata": {
    "ExecuteTime": {
     "end_time": "2024-11-21T17:11:43.128325600Z",
     "start_time": "2024-11-21T12:59:43.745589Z"
    }
   },
   "cell_type": "code",
   "source": [
    "import numpy as np\n",
    "import tools\n",
    "import logging\n",
    "\n",
    "# 设置日志记录\n",
    "logging.basicConfig(level=logging.DEBUG)\n",
    "logger = logging.getLogger(__name__)\n",
    "\n",
    "# 加载数据\n",
    "iq_samples = np.load('data_E07_20241108144903_2_pilot.npy')\n",
    "\n",
    "# 处理数据\n",
    "phase_ch0, freq_slope_ch0 = tools.get_phases_and_apply_bandpass(iq_samples[0, :])\n",
    "phase_ch1, freq_slope_ch1 = tools.get_phases_and_apply_bandpass(iq_samples[1, :])\n",
    "\n",
    "# 打印频率偏移\n",
    "logger.debug(\"Frequency offset CH0: %.4f\", freq_slope_ch0 / (2 * np.pi))\n",
    "logger.debug(\"Frequency offset CH1: %.4f\", freq_slope_ch1 / (2 * np.pi))\n",
    "\n",
    "# 计算相位差\n",
    "phase_diff = tools.to_min_pi_plus_pi(phase_ch0 - phase_ch1, deg=False)\n",
    "\n",
    "# 打印相位差\n",
    "# print(\"Phase difference:\", np.mean(phase_diff))\n",
    "print(\"Phase difference:\", phase_diff)"
   ],
   "id": "62e2a5bf39255fa0",
   "outputs": [
    {
     "name": "stderr",
     "output_type": "stream",
     "text": [
      "DEBUG:__main__:Frequency offset CH0: 0.0000\n",
      "DEBUG:__main__:Frequency offset CH1: 0.0000\n"
     ]
    },
    {
     "name": "stdout",
     "output_type": "stream",
     "text": [
      "Phase difference: [-3.33704553 -3.33735823 -3.33765696 ... -3.60010928 -3.60008861\n",
      " -3.60006773]\n"
     ]
    }
   ],
   "execution_count": 22
  },
  {
   "metadata": {
    "ExecuteTime": {
     "end_time": "2024-11-21T17:11:43.135499100Z",
     "start_time": "2024-11-21T10:02:53.067498Z"
    }
   },
   "cell_type": "code",
   "source": [
    "# 加载数据\n",
    "iq_samples = np.load('data_E09_20241108144903_1_pilot.npy')\n",
    "\n",
    "# 处理数据\n",
    "phase_ch0, freq_slope_ch0 = tools.get_phases_and_apply_bandpass(iq_samples[0, :])\n",
    "phase_ch1, freq_slope_ch1 = tools.get_phases_and_apply_bandpass(iq_samples[1, :])\n",
    "\n",
    "# 打印频率偏移\n",
    "logger.debug(\"Frequency offset CH0: %.4f\", freq_slope_ch0 / (2 * np.pi))\n",
    "logger.debug(\"Frequency offset CH1: %.4f\", freq_slope_ch1 / (2 * np.pi))\n",
    "\n",
    "# 计算相位差\n",
    "phase_diff = tools.to_min_pi_plus_pi(phase_ch0 - phase_ch1, deg=False)\n",
    "\n",
    "# 打印相位差\n",
    "print(\"Phase difference:\", np.mean(phase_diff))"
   ],
   "id": "c14bee1ea65274a7",
   "outputs": [
    {
     "name": "stderr",
     "output_type": "stream",
     "text": [
      "DEBUG:__main__:Frequency offset CH0: 0.0000\n",
      "DEBUG:__main__:Frequency offset CH1: 0.0000\n"
     ]
    },
    {
     "name": "stdout",
     "output_type": "stream",
     "text": [
      "Phase difference: -1.9812471418346373\n"
     ]
    }
   ],
   "execution_count": 4
  },
  {
   "metadata": {
    "ExecuteTime": {
     "end_time": "2024-11-21T17:11:43.137498800Z",
     "start_time": "2024-11-21T10:02:58.502817Z"
    }
   },
   "cell_type": "code",
   "source": [
    "# 加载数据\n",
    "iq_samples = np.load('data_E09_20241108144903_1_loopback.npy')\n",
    "\n",
    "# 处理数据\n",
    "phase_ch0, freq_slope_ch0 = tools.get_phases_and_apply_bandpass(iq_samples[0, :])\n",
    "phase_ch1, freq_slope_ch1 = tools.get_phases_and_apply_bandpass(iq_samples[1, :])\n",
    "\n",
    "# 打印频率偏移\n",
    "logger.debug(\"Frequency offset CH0: %.4f\", freq_slope_ch0 / (2 * np.pi))\n",
    "logger.debug(\"Frequency offset CH1: %.4f\", freq_slope_ch1 / (2 * np.pi))\n",
    "\n",
    "# 计算相位差\n",
    "phase_diff = tools.to_min_pi_plus_pi(phase_ch0 - phase_ch1, deg=False)\n",
    "\n",
    "# 打印相位差\n",
    "print(\"Phase difference:\", np.mean(phase_diff))"
   ],
   "id": "20e9f231c6ef1da7",
   "outputs": [
    {
     "name": "stderr",
     "output_type": "stream",
     "text": [
      "DEBUG:__main__:Frequency offset CH0: 0.0000\n",
      "DEBUG:__main__:Frequency offset CH1: 0.0000\n"
     ]
    },
    {
     "name": "stdout",
     "output_type": "stream",
     "text": [
      "Phase difference: -0.3400391042358815\n"
     ]
    }
   ],
   "execution_count": 5
  },
  {
   "metadata": {
    "ExecuteTime": {
     "end_time": "2024-11-21T17:11:43.138502500Z",
     "start_time": "2024-11-21T10:03:02.520793Z"
    }
   },
   "cell_type": "code",
   "source": [
    "# 加载数据\n",
    "iq_samples = np.load('data_E09_20241108144903_2_pilot.npy')\n",
    "\n",
    "# 处理数据\n",
    "phase_ch0, freq_slope_ch0 = tools.get_phases_and_apply_bandpass(iq_samples[0, :])\n",
    "phase_ch1, freq_slope_ch1 = tools.get_phases_and_apply_bandpass(iq_samples[1, :])\n",
    "\n",
    "# 打印频率偏移\n",
    "logger.debug(\"Frequency offset CH0: %.4f\", freq_slope_ch0 / (2 * np.pi))\n",
    "logger.debug(\"Frequency offset CH1: %.4f\", freq_slope_ch1 / (2 * np.pi))\n",
    "\n",
    "# 计算相位差\n",
    "phase_diff = tools.to_min_pi_plus_pi(phase_ch0 - phase_ch1, deg=False)\n",
    "\n",
    "# 打印相位差\n",
    "print(\"Phase difference:\", np.mean(phase_diff))"
   ],
   "id": "2e09ad199395eefc",
   "outputs": [
    {
     "name": "stderr",
     "output_type": "stream",
     "text": [
      "DEBUG:__main__:Frequency offset CH0: 0.0000\n",
      "DEBUG:__main__:Frequency offset CH1: 0.0000\n"
     ]
    },
    {
     "name": "stdout",
     "output_type": "stream",
     "text": [
      "Phase difference: -1.116783710500486\n"
     ]
    }
   ],
   "execution_count": 6
  },
  {
   "metadata": {
    "ExecuteTime": {
     "end_time": "2024-11-21T17:11:43.138502500Z",
     "start_time": "2024-11-21T10:03:12.136089Z"
    }
   },
   "cell_type": "code",
   "source": [
    "# 加载数据\n",
    "iq_samples = np.load('data_E09_20241108144903_2_loopback.npy')\n",
    "\n",
    "# 处理数据\n",
    "phase_ch0, freq_slope_ch0 = tools.get_phases_and_apply_bandpass(iq_samples[0, :])\n",
    "phase_ch1, freq_slope_ch1 = tools.get_phases_and_apply_bandpass(iq_samples[1, :])\n",
    "\n",
    "# 打印频率偏移\n",
    "logger.debug(\"Frequency offset CH0: %.4f\", freq_slope_ch0 / (2 * np.pi))\n",
    "logger.debug(\"Frequency offset CH1: %.4f\", freq_slope_ch1 / (2 * np.pi))\n",
    "\n",
    "# 计算相位差\n",
    "phase_diff = tools.to_min_pi_plus_pi(phase_ch0 - phase_ch1, deg=False)\n",
    "\n",
    "# 打印相位差\n",
    "print(\"Phase difference:\", np.mean(phase_diff))"
   ],
   "id": "3244f2ce3cf76118",
   "outputs": [
    {
     "name": "stderr",
     "output_type": "stream",
     "text": [
      "DEBUG:__main__:Frequency offset CH0: 0.0000\n",
      "DEBUG:__main__:Frequency offset CH1: 0.0000\n"
     ]
    },
    {
     "name": "stdout",
     "output_type": "stream",
     "text": [
      "Phase difference: -0.4233288807012716\n"
     ]
    }
   ],
   "execution_count": 7
  }
 ],
 "metadata": {
  "kernelspec": {
   "name": "python3",
   "language": "python",
   "display_name": "Python 3 (ipykernel)"
  }
 },
 "nbformat": 5,
 "nbformat_minor": 9
}
